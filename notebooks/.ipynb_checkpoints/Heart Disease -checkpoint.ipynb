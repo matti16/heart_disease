{
 "cells": [
  {
   "cell_type": "code",
   "execution_count": 3,
   "metadata": {
    "collapsed": true
   },
   "outputs": [],
   "source": [
    "import pandas as pd\n",
    "import numpy as np\n",
    "import os\n",
    "from StringIO import StringIO\n",
    "\n",
    "#Common Model Algorithms\n",
    "from sklearn import svm, tree, linear_model, neighbors, naive_bayes, ensemble, discriminant_analysis, gaussian_process\n",
    "\n",
    "#Common Model Helpers\n",
    "from sklearn.preprocessing import OneHotEncoder, LabelEncoder\n",
    "from sklearn import feature_selection\n",
    "from sklearn import model_selection\n",
    "from sklearn import metrics\n",
    "\n",
    "#Visualization\n",
    "import matplotlib as mpl\n",
    "import matplotlib.pyplot as plt\n",
    "import matplotlib.pylab as pylab\n",
    "import seaborn as sns\n",
    "from pandas.tools.plotting import scatter_matrix\n",
    "\n",
    "#Configure visualizations\n",
    "%matplotlib inline\n",
    "mpl.style.use( 'ggplot' )\n",
    "sns.set_style( 'white' )\n",
    "pylab.rcParams[ 'figure.figsize' ] = 12 , 8"
   ]
  },
  {
   "cell_type": "code",
   "execution_count": 77,
   "metadata": {},
   "outputs": [
    {
     "name": "stdout",
     "output_type": "stream",
     "text": [
      "cleveland.data\n",
      "(282, 75)\n",
      "hungarian.data\n",
      "(294, 75)\n",
      "long-beach-va.data\n",
      "(200, 75)\n",
      "switzerland.data\n",
      "(123, 75)\n"
     ]
    }
   ],
   "source": [
    "DATA_DIR = os.path.join(\"..\", \"data\")\n",
    "\n",
    "\n",
    "data_files = [i for i in os.listdir(DATA_DIR) if i.endswith('.data')]\n",
    "\n",
    "raw_data = pd.read_csv(os.path.join(DATA_DIR, \"columns.txt\"))\n",
    "cols = raw_data.columns\n",
    "for d in data_files:\n",
    "    print d\n",
    "    with open(os.path.join(DATA_DIR, d), 'r') as f:\n",
    "        data = StringIO(f.read().replace(' ', ',').replace('\\n', ',').replace(',name,', '\\n').replace(',name', ''))\n",
    "        df = pd.read_csv(data, header=-1)\n",
    "        df.replace(-9, np.NaN, inplace=True)\n",
    "        df.columns = cols\n",
    "        print df.shape\n",
    "        raw_data = raw_data.append(df)\n",
    "        "
   ]
  },
  {
   "cell_type": "code",
   "execution_count": 106,
   "metadata": {},
   "outputs": [
    {
     "name": "stderr",
     "output_type": "stream",
     "text": [
      "C:\\Users\\Brusamento\\AppData\\Local\\Continuum\\anaconda2\\lib\\site-packages\\ipykernel_launcher.py:4: SettingWithCopyWarning: \n",
      "A value is trying to be set on a copy of a slice from a DataFrame.\n",
      "Try using .loc[row_indexer,col_indexer] = value instead\n",
      "\n",
      "See the caveats in the documentation: http://pandas.pydata.org/pandas-docs/stable/indexing.html#indexing-view-versus-copy\n",
      "  after removing the cwd from sys.path.\n",
      "C:\\Users\\Brusamento\\AppData\\Local\\Continuum\\anaconda2\\lib\\site-packages\\ipykernel_launcher.py:5: SettingWithCopyWarning: \n",
      "A value is trying to be set on a copy of a slice from a DataFrame\n",
      "\n",
      "See the caveats in the documentation: http://pandas.pydata.org/pandas-docs/stable/indexing.html#indexing-view-versus-copy\n",
      "  \"\"\"\n"
     ]
    },
    {
     "name": "stdout",
     "output_type": "stream",
     "text": [
      "<class 'pandas.core.frame.DataFrame'>\n",
      "Int64Index: 899 entries, 0 to 122\n",
      "Data columns (total 11 columns):\n",
      "age        899 non-null float64\n",
      "sex        899 non-null float64\n",
      "htn        865 non-null float64\n",
      "chol       869 non-null float64\n",
      "smoke      230 non-null float64\n",
      "cigs       479 non-null float64\n",
      "years      467 non-null float64\n",
      "fbs        809 non-null float64\n",
      "famhist    477 non-null float64\n",
      "num        899 non-null float64\n",
      "disease    899 non-null int64\n",
      "dtypes: float64(10), int64(1)\n",
      "memory usage: 84.3 KB\n"
     ]
    },
    {
     "name": "stderr",
     "output_type": "stream",
     "text": [
      "C:\\Users\\Brusamento\\AppData\\Local\\Continuum\\anaconda2\\lib\\site-packages\\pandas\\core\\generic.py:4485: SettingWithCopyWarning: \n",
      "A value is trying to be set on a copy of a slice from a DataFrame\n",
      "\n",
      "See the caveats in the documentation: http://pandas.pydata.org/pandas-docs/stable/indexing.html#indexing-view-versus-copy\n",
      "  self._update_inplace(new_data)\n",
      "C:\\Users\\Brusamento\\AppData\\Local\\Continuum\\anaconda2\\lib\\site-packages\\IPython\\core\\interactiveshell.py:2882: SettingWithCopyWarning: \n",
      "A value is trying to be set on a copy of a slice from a DataFrame\n",
      "\n",
      "See the caveats in the documentation: http://pandas.pydata.org/pandas-docs/stable/indexing.html#indexing-view-versus-copy\n",
      "  exec(code_obj, self.user_global_ns, self.user_ns)\n"
     ]
    }
   ],
   "source": [
    "to_keep = [\"age\", \"sex\", \"htn\", \"chol\", \"smoke\", \"cigs\", \"years\", \"fbs\", \"famhist\", \"num\"]\n",
    "df_raw = raw_data[to_keep]\n",
    "\n",
    "df_raw['disease'] = 0\n",
    "df_raw['disease'][df_raw.num > 0] = 1\n",
    "\n",
    "df_raw.info()"
   ]
  },
  {
   "cell_type": "code",
   "execution_count": 91,
   "metadata": {},
   "outputs": [
    {
     "data": {
      "text/plain": [
       "<matplotlib.axes._subplots.AxesSubplot at 0x14a77f28>"
      ]
     },
     "execution_count": 91,
     "metadata": {},
     "output_type": "execute_result"
    },
    {
     "data": {
      "image/png": "[encoded data removed]",
      "text/plain": [
       "<matplotlib.figure.Figure at 0x147cb5f8>"
      ]
     },
     "metadata": {},
     "output_type": "display_data"
    }
   ],
   "source": [
    "fig, saxis = plt.subplots(2, 2,figsize=(16,12))\n",
    "\n",
    "sns.barplot(x='fbs', y ='num', data=df_raw, ax = saxis[0,0])\n",
    "sns.barplot(x='famhist', y ='num', data=df_raw, ax = saxis[0,1])\n",
    "sns.barplot(x ='sex', y ='num', data=df_raw, ax = saxis[1,0])\n",
    "sns.barplot(x ='smoke', y ='num', data=df_raw, ax = saxis[1,1])"
   ]
  },
  {
   "cell_type": "code",
   "execution_count": 109,
   "metadata": {},
   "outputs": [
    {
     "data": {
      "text/plain": [
       "<seaborn.axisgrid.FacetGrid at 0x13c7ff28>"
      ]
     },
     "execution_count": 109,
     "metadata": {},
     "output_type": "execute_result"
    },
    {
     "data": {
      "image/png": "[encoded data removed]",
      "text/plain": [
       "<matplotlib.figure.Figure at 0x13c7f470>"
      ]
     },
     "metadata": {},
     "output_type": "display_data"
    }
   ],
   "source": [
    "#plot distributions of Age of passengers who survived or did not survive\n",
    "a = sns.FacetGrid(df_raw , hue = 'disease', aspect=2)\n",
    "a.map(sns.distplot, 'age')\n",
    "a.set(xlim=(0, df_raw['age'].max()))\n",
    "a.add_legend()"
   ]
  },
  {
   "cell_type": "code",
   "execution_count": 94,
   "metadata": {},
   "outputs": [
    {
     "name": "stderr",
     "output_type": "stream",
     "text": [
      "C:\\Users\\Brusamento\\AppData\\Local\\Continuum\\anaconda2\\lib\\site-packages\\numpy\\lib\\function_base.py:4274: RuntimeWarning: Invalid value encountered in percentile\n",
      "  interpolation=interpolation)\n"
     ]
    },
    {
     "data": {
      "text/html": [
       "<div>\n",
       "<table border=\"1\" class=\"dataframe\">\n",
       "  <thead>\n",
       "    <tr style=\"text-align: right;\">\n",
       "      <th></th>\n",
       "      <th>age</th>\n",
       "      <th>sex</th>\n",
       "      <th>htn</th>\n",
       "      <th>chol</th>\n",
       "      <th>smoke</th>\n",
       "      <th>cigs</th>\n",
       "      <th>years</th>\n",
       "      <th>fbs</th>\n",
       "      <th>famhist</th>\n",
       "      <th>num</th>\n",
       "    </tr>\n",
       "  </thead>\n",
       "  <tbody>\n",
       "    <tr>\n",
       "      <th>count</th>\n",
       "      <td>899.000000</td>\n",
       "      <td>899.000000</td>\n",
       "      <td>865.000000</td>\n",
       "      <td>869.000000</td>\n",
       "      <td>230.000000</td>\n",
       "      <td>479.000000</td>\n",
       "      <td>467.000000</td>\n",
       "      <td>809.000000</td>\n",
       "      <td>477.000000</td>\n",
       "      <td>899.000000</td>\n",
       "    </tr>\n",
       "    <tr>\n",
       "      <th>mean</th>\n",
       "      <td>53.480534</td>\n",
       "      <td>0.790879</td>\n",
       "      <td>0.476301</td>\n",
       "      <td>198.759494</td>\n",
       "      <td>0.517391</td>\n",
       "      <td>19.118998</td>\n",
       "      <td>18.796574</td>\n",
       "      <td>0.166873</td>\n",
       "      <td>0.563941</td>\n",
       "      <td>1.129032</td>\n",
       "    </tr>\n",
       "    <tr>\n",
       "      <th>std</th>\n",
       "      <td>9.435894</td>\n",
       "      <td>0.406908</td>\n",
       "      <td>0.499727</td>\n",
       "      <td>111.834415</td>\n",
       "      <td>0.500787</td>\n",
       "      <td>18.296273</td>\n",
       "      <td>16.359145</td>\n",
       "      <td>0.373093</td>\n",
       "      <td>0.496415</td>\n",
       "      <td>1.259720</td>\n",
       "    </tr>\n",
       "    <tr>\n",
       "      <th>min</th>\n",
       "      <td>28.000000</td>\n",
       "      <td>0.000000</td>\n",
       "      <td>0.000000</td>\n",
       "      <td>0.000000</td>\n",
       "      <td>0.000000</td>\n",
       "      <td>0.000000</td>\n",
       "      <td>0.000000</td>\n",
       "      <td>0.000000</td>\n",
       "      <td>0.000000</td>\n",
       "      <td>0.000000</td>\n",
       "    </tr>\n",
       "    <tr>\n",
       "      <th>25%</th>\n",
       "      <td>47.000000</td>\n",
       "      <td>1.000000</td>\n",
       "      <td>NaN</td>\n",
       "      <td>NaN</td>\n",
       "      <td>NaN</td>\n",
       "      <td>NaN</td>\n",
       "      <td>NaN</td>\n",
       "      <td>NaN</td>\n",
       "      <td>NaN</td>\n",
       "      <td>0.000000</td>\n",
       "    </tr>\n",
       "    <tr>\n",
       "      <th>50%</th>\n",
       "      <td>54.000000</td>\n",
       "      <td>1.000000</td>\n",
       "      <td>NaN</td>\n",
       "      <td>NaN</td>\n",
       "      <td>NaN</td>\n",
       "      <td>NaN</td>\n",
       "      <td>NaN</td>\n",
       "      <td>NaN</td>\n",
       "      <td>NaN</td>\n",
       "      <td>1.000000</td>\n",
       "    </tr>\n",
       "    <tr>\n",
       "      <th>75%</th>\n",
       "      <td>60.000000</td>\n",
       "      <td>1.000000</td>\n",
       "      <td>NaN</td>\n",
       "      <td>NaN</td>\n",
       "      <td>NaN</td>\n",
       "      <td>NaN</td>\n",
       "      <td>NaN</td>\n",
       "      <td>NaN</td>\n",
       "      <td>NaN</td>\n",
       "      <td>2.000000</td>\n",
       "    </tr>\n",
       "    <tr>\n",
       "      <th>max</th>\n",
       "      <td>77.000000</td>\n",
       "      <td>1.000000</td>\n",
       "      <td>1.000000</td>\n",
       "      <td>603.000000</td>\n",
       "      <td>1.000000</td>\n",
       "      <td>99.000000</td>\n",
       "      <td>60.000000</td>\n",
       "      <td>1.000000</td>\n",
       "      <td>1.000000</td>\n",
       "      <td>4.000000</td>\n",
       "    </tr>\n",
       "  </tbody>\n",
       "</table>\n",
       "</div>"
      ],
      "text/plain": [
       "              age         sex         htn        chol       smoke        cigs  \\\n",
       "count  899.000000  899.000000  865.000000  869.000000  230.000000  479.000000   \n",
       "mean    53.480534    0.790879    0.476301  198.759494    0.517391   19.118998   \n",
       "std      9.435894    0.406908    0.499727  111.834415    0.500787   18.296273   \n",
       "min     28.000000    0.000000    0.000000    0.000000    0.000000    0.000000   \n",
       "25%     47.000000    1.000000         NaN         NaN         NaN         NaN   \n",
       "50%     54.000000    1.000000         NaN         NaN         NaN         NaN   \n",
       "75%     60.000000    1.000000         NaN         NaN         NaN         NaN   \n",
       "max     77.000000    1.000000    1.000000  603.000000    1.000000   99.000000   \n",
       "\n",
       "            years         fbs     famhist         num  \n",
       "count  467.000000  809.000000  477.000000  899.000000  \n",
       "mean    18.796574    0.166873    0.563941    1.129032  \n",
       "std     16.359145    0.373093    0.496415    1.259720  \n",
       "min      0.000000    0.000000    0.000000    0.000000  \n",
       "25%           NaN         NaN         NaN    0.000000  \n",
       "50%           NaN         NaN         NaN    1.000000  \n",
       "75%           NaN         NaN         NaN    2.000000  \n",
       "max     60.000000    1.000000    1.000000    4.000000  "
      ]
     },
     "execution_count": 94,
     "metadata": {},
     "output_type": "execute_result"
    }
   ],
   "source": [
    "df_raw.describe()"
   ]
  },
  {
   "cell_type": "code",
   "execution_count": null,
   "metadata": {
    "collapsed": true
   },
   "outputs": [],
   "source": []
  }
 ],
 "metadata": {
  "kernelspec": {
   "display_name": "Python 2",
   "language": "python",
   "name": "python2"
  },
  "language_info": {
   "codemirror_mode": {
    "name": "ipython",
    "version": 2
   },
   "file_extension": ".py",
   "mimetype": "text/x-python",
   "name": "python",
   "nbconvert_exporter": "python",
   "pygments_lexer": "ipython2",
   "version": "2.7.14"
  }
 },
 "nbformat": 4,
 "nbformat_minor": 2
}
